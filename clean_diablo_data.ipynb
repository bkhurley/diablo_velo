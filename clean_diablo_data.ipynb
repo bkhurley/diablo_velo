{
 "cells": [
  {
   "cell_type": "markdown",
   "metadata": {},
   "source": [
    "# Clean Strava & Weather Data\n",
    "* Wrangle Strava JSON data into a pandas dataframe \n",
    "* Refine and create features from Strava data\n",
    "* Clean data scraped from Weather Underground\n",
    "* Join cleansed Strava & WUnderground data sets and write to file"
   ]
  },
  {
   "cell_type": "code",
   "execution_count": 1,
   "metadata": {
    "collapsed": true
   },
   "outputs": [],
   "source": [
    "import pickle\n",
    "import pandas as pd\n",
    "import numpy as np"
   ]
  },
  {
   "cell_type": "code",
   "execution_count": 2,
   "metadata": {
    "collapsed": true
   },
   "outputs": [],
   "source": [
    "data_fpath = '/Users/bkhurley/git/diablo_velo/data/'\n",
    "rawdata_fpath = data_fpath + 'raw_data/'\n",
    "cleandata_fpath = data_fpath + 'clean_data/'"
   ]
  },
  {
   "cell_type": "markdown",
   "metadata": {},
   "source": [
    "## Load JSON data"
   ]
  },
  {
   "cell_type": "code",
   "execution_count": 3,
   "metadata": {
    "collapsed": true
   },
   "outputs": [],
   "source": [
    "# load effort data\n",
    "segment_efforts = pickle.load(open(rawdata_fpath + \"all_efforts_656860.p\", \"rb\"))\n",
    "\n",
    "# load segment data (data on the segment itself, not the efforts)\n",
    "segment_data = pickle.load(open(rawdata_fpath + \"segment_656860.p\", \"rb\"))\n",
    "segment_data = segment_data"
   ]
  },
  {
   "cell_type": "markdown",
   "metadata": {},
   "source": [
    "## Restructure data from JSON to dataframe\n",
    "Let's reformat the data from a JSON object to a pandas dataframe, which is more suitable for analysis."
   ]
  },
  {
   "cell_type": "markdown",
   "metadata": {},
   "source": [
    "As we go, keep only features that may be useful to the analysis."
   ]
  },
  {
   "cell_type": "code",
   "execution_count": 4,
   "metadata": {
    "collapsed": true
   },
   "outputs": [],
   "source": [
    "# features to keep\n",
    "features = ['id', 'activity', 'athlete', 'elapsed_time', 'moving_time', 'start_date',\n",
    "            'start_date_local', 'distance', 'start_index', 'end_index', 'device_watts', \n",
    "            'average_watts', 'average_heartrate', 'max_heartrate', 'average_cadence']"
   ]
  },
  {
   "cell_type": "markdown",
   "metadata": {},
   "source": [
    "I parse the JSON data by iterating through each effort, and within each effort iterating through each attribute of the effort. Each of the JSON object's (retained) dictionary keys become columns, each row listing the value of those column variables for a given effort."
   ]
  },
  {
   "cell_type": "code",
   "execution_count": 14,
   "metadata": {
    "collapsed": true
   },
   "outputs": [],
   "source": [
    "# initiate empty list to hold rows of data\n",
    "effort_data = []\n",
    "\n",
    "# now, iterate through each effort\n",
    "for effort in segment_efforts:    \n",
    "    row_array = []\n",
    "    # within each effort, iterate through each variable\n",
    "    for i in range(len(features)):\n",
    "        # only process features of interest\n",
    "        attribute = features[i]\n",
    "        if attribute not in effort.keys():\n",
    "            row_array.append(None)\n",
    "        else:\n",
    "            # 'activity' and 'athlete' keys contain dicts. Keep only id from those dicts\n",
    "            if attribute in ['activity', 'athlete']:\n",
    "                if type(effort[attribute]) == dict:\n",
    "                    effort[attribute] = effort[attribute]['id']\n",
    "            # convert id numbers to strings for easier grouping later\n",
    "            if attribute in ['id', 'activity', 'athlete']:\n",
    "                effort[attribute] = str(effort[attribute])\n",
    "            row_array.append(effort[attribute])\n",
    "    \n",
    "    # append row to data list \n",
    "    effort_data.append(row_array)\n",
    "\n",
    "# convert data list to pandas dataframe\n",
    "strava_data = pd.DataFrame(effort_data, columns=features)"
   ]
  },
  {
   "cell_type": "markdown",
   "metadata": {},
   "source": [
    "Let's take a look at the new dataframe"
   ]
  },
  {
   "cell_type": "code",
   "execution_count": 15,
   "metadata": {},
   "outputs": [
    {
     "data": {
      "text/html": [
       "<div>\n",
       "<style>\n",
       "    .dataframe thead tr:only-child th {\n",
       "        text-align: right;\n",
       "    }\n",
       "\n",
       "    .dataframe thead th {\n",
       "        text-align: left;\n",
       "    }\n",
       "\n",
       "    .dataframe tbody tr th {\n",
       "        vertical-align: top;\n",
       "    }\n",
       "</style>\n",
       "<table border=\"1\" class=\"dataframe\">\n",
       "  <thead>\n",
       "    <tr style=\"text-align: right;\">\n",
       "      <th></th>\n",
       "      <th>id</th>\n",
       "      <th>activity</th>\n",
       "      <th>athlete</th>\n",
       "      <th>elapsed_time</th>\n",
       "      <th>moving_time</th>\n",
       "      <th>start_date</th>\n",
       "      <th>start_date_local</th>\n",
       "      <th>distance</th>\n",
       "      <th>start_index</th>\n",
       "      <th>end_index</th>\n",
       "      <th>device_watts</th>\n",
       "      <th>average_watts</th>\n",
       "      <th>average_heartrate</th>\n",
       "      <th>max_heartrate</th>\n",
       "      <th>average_cadence</th>\n",
       "    </tr>\n",
       "  </thead>\n",
       "  <tbody>\n",
       "    <tr>\n",
       "      <th>0</th>\n",
       "      <td>9131432</td>\n",
       "      <td>111986</td>\n",
       "      <td>5287</td>\n",
       "      <td>4578</td>\n",
       "      <td>4310</td>\n",
       "      <td>2006-04-23T16:06:17Z</td>\n",
       "      <td>2006-04-23T16:06:17Z</td>\n",
       "      <td>15183.9</td>\n",
       "      <td>450</td>\n",
       "      <td>1052</td>\n",
       "      <td>False</td>\n",
       "      <td>NaN</td>\n",
       "      <td>149.5</td>\n",
       "      <td>164.0</td>\n",
       "      <td>NaN</td>\n",
       "    </tr>\n",
       "    <tr>\n",
       "      <th>1</th>\n",
       "      <td>9131428</td>\n",
       "      <td>125030</td>\n",
       "      <td>1885</td>\n",
       "      <td>5627</td>\n",
       "      <td>5160</td>\n",
       "      <td>2006-05-06T15:40:44Z</td>\n",
       "      <td>2006-05-06T15:40:44Z</td>\n",
       "      <td>16799.1</td>\n",
       "      <td>327</td>\n",
       "      <td>1095</td>\n",
       "      <td>False</td>\n",
       "      <td>212.9</td>\n",
       "      <td>175.1</td>\n",
       "      <td>186.0</td>\n",
       "      <td>66.1</td>\n",
       "    </tr>\n",
       "    <tr>\n",
       "      <th>2</th>\n",
       "      <td>1670259583</td>\n",
       "      <td>82155037</td>\n",
       "      <td>1885</td>\n",
       "      <td>5494</td>\n",
       "      <td>5255</td>\n",
       "      <td>2006-06-09T15:50:57Z</td>\n",
       "      <td>2006-06-09T08:50:57Z</td>\n",
       "      <td>16920.2</td>\n",
       "      <td>112</td>\n",
       "      <td>931</td>\n",
       "      <td>False</td>\n",
       "      <td>201.6</td>\n",
       "      <td>165.7</td>\n",
       "      <td>175.0</td>\n",
       "      <td>67.9</td>\n",
       "    </tr>\n",
       "    <tr>\n",
       "      <th>3</th>\n",
       "      <td>24297526436</td>\n",
       "      <td>991534814</td>\n",
       "      <td>3719</td>\n",
       "      <td>5320</td>\n",
       "      <td>5320</td>\n",
       "      <td>2006-07-04T16:59:01Z</td>\n",
       "      <td>2006-07-04T09:59:01Z</td>\n",
       "      <td>15467.1</td>\n",
       "      <td>149</td>\n",
       "      <td>350</td>\n",
       "      <td>False</td>\n",
       "      <td>182.8</td>\n",
       "      <td>NaN</td>\n",
       "      <td>NaN</td>\n",
       "      <td>NaN</td>\n",
       "    </tr>\n",
       "    <tr>\n",
       "      <th>4</th>\n",
       "      <td>1670314655</td>\n",
       "      <td>82158071</td>\n",
       "      <td>1885</td>\n",
       "      <td>5153</td>\n",
       "      <td>5033</td>\n",
       "      <td>2006-07-29T15:30:41Z</td>\n",
       "      <td>2006-07-29T08:30:41Z</td>\n",
       "      <td>16898.2</td>\n",
       "      <td>272</td>\n",
       "      <td>1079</td>\n",
       "      <td>False</td>\n",
       "      <td>226.6</td>\n",
       "      <td>172.7</td>\n",
       "      <td>180.0</td>\n",
       "      <td>73.9</td>\n",
       "    </tr>\n",
       "  </tbody>\n",
       "</table>\n",
       "</div>"
      ],
      "text/plain": [
       "            id   activity athlete  elapsed_time  moving_time  \\\n",
       "0      9131432     111986    5287          4578         4310   \n",
       "1      9131428     125030    1885          5627         5160   \n",
       "2   1670259583   82155037    1885          5494         5255   \n",
       "3  24297526436  991534814    3719          5320         5320   \n",
       "4   1670314655   82158071    1885          5153         5033   \n",
       "\n",
       "             start_date      start_date_local  distance  start_index  \\\n",
       "0  2006-04-23T16:06:17Z  2006-04-23T16:06:17Z   15183.9          450   \n",
       "1  2006-05-06T15:40:44Z  2006-05-06T15:40:44Z   16799.1          327   \n",
       "2  2006-06-09T15:50:57Z  2006-06-09T08:50:57Z   16920.2          112   \n",
       "3  2006-07-04T16:59:01Z  2006-07-04T09:59:01Z   15467.1          149   \n",
       "4  2006-07-29T15:30:41Z  2006-07-29T08:30:41Z   16898.2          272   \n",
       "\n",
       "   end_index  device_watts  average_watts  average_heartrate  max_heartrate  \\\n",
       "0       1052         False            NaN              149.5          164.0   \n",
       "1       1095         False          212.9              175.1          186.0   \n",
       "2        931         False          201.6              165.7          175.0   \n",
       "3        350         False          182.8                NaN            NaN   \n",
       "4       1079         False          226.6              172.7          180.0   \n",
       "\n",
       "   average_cadence  \n",
       "0              NaN  \n",
       "1             66.1  \n",
       "2             67.9  \n",
       "3              NaN  \n",
       "4             73.9  "
      ]
     },
     "execution_count": 15,
     "metadata": {},
     "output_type": "execute_result"
    }
   ],
   "source": [
    "strava_data.head()"
   ]
  },
  {
   "cell_type": "markdown",
   "metadata": {},
   "source": [
    "## Clean the data\n",
    "Now, I will clean up the data by removing unwanted columns, refining some features, and generating new features."
   ]
  },
  {
   "cell_type": "markdown",
   "metadata": {},
   "source": [
    "### Remove columns that we probably won't need\n",
    "We will go with the local start date, and the start and stop indices don't appear to be very informative to our needs."
   ]
  },
  {
   "cell_type": "code",
   "execution_count": 16,
   "metadata": {
    "collapsed": true
   },
   "outputs": [],
   "source": [
    "del strava_data['start_date']\n",
    "del strava_data['start_index']\n",
    "del strava_data['end_index']"
   ]
  },
  {
   "cell_type": "markdown",
   "metadata": {},
   "source": [
    "### Clean up dates & times"
   ]
  },
  {
   "cell_type": "code",
   "execution_count": 17,
   "metadata": {
    "collapsed": true
   },
   "outputs": [],
   "source": [
    "# convert start date to pandas' datetime format\n",
    "strava_data['start_date_local'] = pd.to_datetime(strava_data['start_date_local'])"
   ]
  },
  {
   "cell_type": "markdown",
   "metadata": {},
   "source": [
    "### Generate some extra features from the data we have"
   ]
  },
  {
   "cell_type": "markdown",
   "metadata": {},
   "source": [
    "#### Date & time features\n",
    "I'll break out the timestamp into various date and time features I can easily index later."
   ]
  },
  {
   "cell_type": "code",
   "execution_count": 18,
   "metadata": {
    "collapsed": true
   },
   "outputs": [],
   "source": [
    "strava_data['date'] = strava_data['start_date_local'].apply(lambda x: x.date())\n",
    "strava_data['time'] = strava_data['start_date_local'].apply(lambda x: x.time())\n",
    "strava_data['day'] = strava_data['start_date_local'].apply(lambda x: x.weekday_name)\n",
    "strava_data['hour'] = strava_data['start_date_local'].apply(lambda x: x.hour)\n",
    "strava_data['month'] = strava_data['start_date_local'].apply(lambda x: x.month)\n",
    "strava_data['year'] = strava_data['start_date_local'].apply(lambda x: x.year)"
   ]
  },
  {
   "cell_type": "markdown",
   "metadata": {},
   "source": [
    "#### Performance features\n",
    "Next, I'll work on features related to athletes' cycling performance."
   ]
  },
  {
   "cell_type": "markdown",
   "metadata": {},
   "source": [
    "I'll start by transforming 'distance' from meters to miles, calculating miles per hour, and transforming moving time and elapsed time from seconds to minutes."
   ]
  },
  {
   "cell_type": "code",
   "execution_count": 19,
   "metadata": {
    "collapsed": true
   },
   "outputs": [],
   "source": [
    "# Strava logs distance in meters. Let's convert this to miles.\n",
    "strava_data['distance (mi)'] = strava_data['distance'] * 0.00062137\n",
    "# delete the original distance column\n",
    "del strava_data['distance']\n",
    "# calculate miles per hour (Strava logs moving time in seconds)\n",
    "strava_data['MPH'] = strava_data['distance (mi)'] / ((strava_data['moving_time']/60)/60)\n",
    "# also transform moving time and elapsed time from seconds to minutes\n",
    "strava_data['moving_time'] = strava_data['moving_time']/60\n",
    "strava_data['elapsed_time'] = strava_data['elapsed_time']/60"
   ]
  },
  {
   "cell_type": "markdown",
   "metadata": {},
   "source": [
    "I can also calculate stopping time to see how long riders took breaks."
   ]
  },
  {
   "cell_type": "code",
   "execution_count": 20,
   "metadata": {
    "collapsed": true
   },
   "outputs": [],
   "source": [
    "strava_data['Time Stopped'] = strava_data['elapsed_time'] - strava_data['moving_time']"
   ]
  },
  {
   "cell_type": "markdown",
   "metadata": {},
   "source": [
    "The number of times an athelete attempted the segement prior to a given effort might be predictive of their current moving time. Thus, I calculate the number of previous efforts by iterating through the efforts and tallying the number of the athlete's previous attempts prior to the their current effort.\n",
    "\n",
    "I also calculate a rider's average moving time accross previous rides, as this also may help with predicting one's moving time on a later effort."
   ]
  },
  {
   "cell_type": "code",
   "execution_count": 21,
   "metadata": {
    "collapsed": true
   },
   "outputs": [],
   "source": [
    "previous_efforts = []\n",
    "previous_avgtime = []\n",
    "# iterate through efforts\n",
    "for ieffort in range(len(strava_data)):\n",
    "    # if it's the effort, assign 0\n",
    "    if ieffort == 0:\n",
    "        previous_efforts.append(0)\n",
    "        previous_avgtime.append(np.nan)\n",
    "    else:\n",
    "        this_athlete = strava_data.loc[ieffort, 'athlete']\n",
    "        prev_data = strava_data.iloc[range(ieffort), :]\n",
    "        # if the athlete has previous rides, count them\n",
    "        # otherwise, assign 0\n",
    "        if this_athlete in prev_data['athlete'].unique():\n",
    "            previous_efforts.append(\n",
    "                prev_data.loc[prev_data['athlete']==this_athlete,\n",
    "                              'moving_time'].count()\n",
    "            )\n",
    "            previous_avgtime.append(\n",
    "                prev_data.loc[prev_data['athlete']==this_athlete,\n",
    "                              'moving_time'].mean()\n",
    "            )\n",
    "        else:\n",
    "            previous_efforts.append(0)\n",
    "            previous_avgtime.append(np.nan)"
   ]
  },
  {
   "cell_type": "markdown",
   "metadata": {},
   "source": [
    "Now add metrics from previous efforts as additional features in the dataframe."
   ]
  },
  {
   "cell_type": "code",
   "execution_count": 22,
   "metadata": {
    "collapsed": true
   },
   "outputs": [],
   "source": [
    "strava_data['Previous Efforts'] = previous_efforts\n",
    "strava_data['Previous Avg Moving Time'] = previous_avgtime"
   ]
  },
  {
   "cell_type": "markdown",
   "metadata": {},
   "source": [
    "Clean up some anomalous values seen in the exploratory plots. Wattage and heart rate had several 0 values (especially anomalous for heart rate!)."
   ]
  },
  {
   "cell_type": "code",
   "execution_count": 23,
   "metadata": {
    "collapsed": true
   },
   "outputs": [],
   "source": [
    "strava_data.loc[strava_data['average_watts']==0, 'average_watts'] = np.nan\n",
    "strava_data.loc[strava_data['average_heartrate']==0, 'average_heartrate'] = np.nan\n",
    "strava_data.loc[strava_data['max_heartrate']==0, 'max_heartrate'] = np.nan"
   ]
  },
  {
   "cell_type": "markdown",
   "metadata": {},
   "source": [
    "Lastly, I'll clean up the column names a bit"
   ]
  },
  {
   "cell_type": "code",
   "execution_count": 24,
   "metadata": {
    "collapsed": true
   },
   "outputs": [],
   "source": [
    "strava_data.columns = ['ID', 'Activity', 'Athlete', 'Elapsed Time',\n",
    "                       'Moving Time', 'Start Date', 'Device Watts',\n",
    "                       'Avg Watts', 'Avg Heart Rate', 'Max Heart Rate', \n",
    "                       'Avg Cadence', 'Date', 'Time', 'Day', 'Hour', \n",
    "                       'Month', 'Year', 'Distance (mi)', 'MPH', \n",
    "                       'Time Stopped', 'Previous Efforts', \n",
    "                       'Previous Avg Moving Time']"
   ]
  },
  {
   "cell_type": "markdown",
   "metadata": {},
   "source": [
    "Let's look at the data after cleaning up Strava features"
   ]
  },
  {
   "cell_type": "code",
   "execution_count": 25,
   "metadata": {},
   "outputs": [
    {
     "data": {
      "text/html": [
       "<div>\n",
       "<style>\n",
       "    .dataframe thead tr:only-child th {\n",
       "        text-align: right;\n",
       "    }\n",
       "\n",
       "    .dataframe thead th {\n",
       "        text-align: left;\n",
       "    }\n",
       "\n",
       "    .dataframe tbody tr th {\n",
       "        vertical-align: top;\n",
       "    }\n",
       "</style>\n",
       "<table border=\"1\" class=\"dataframe\">\n",
       "  <thead>\n",
       "    <tr style=\"text-align: right;\">\n",
       "      <th></th>\n",
       "      <th>ID</th>\n",
       "      <th>Activity</th>\n",
       "      <th>Athlete</th>\n",
       "      <th>Elapsed Time</th>\n",
       "      <th>Moving Time</th>\n",
       "      <th>Start Date</th>\n",
       "      <th>Device Watts</th>\n",
       "      <th>Avg Watts</th>\n",
       "      <th>Avg Heart Rate</th>\n",
       "      <th>Max Heart Rate</th>\n",
       "      <th>...</th>\n",
       "      <th>Time</th>\n",
       "      <th>Day</th>\n",
       "      <th>Hour</th>\n",
       "      <th>Month</th>\n",
       "      <th>Year</th>\n",
       "      <th>Distance (mi)</th>\n",
       "      <th>MPH</th>\n",
       "      <th>Time Stopped</th>\n",
       "      <th>Previous Efforts</th>\n",
       "      <th>Previous Avg Moving Time</th>\n",
       "    </tr>\n",
       "  </thead>\n",
       "  <tbody>\n",
       "    <tr>\n",
       "      <th>0</th>\n",
       "      <td>9131432</td>\n",
       "      <td>111986</td>\n",
       "      <td>5287</td>\n",
       "      <td>76.300000</td>\n",
       "      <td>71.833333</td>\n",
       "      <td>2006-04-23 16:06:17</td>\n",
       "      <td>False</td>\n",
       "      <td>NaN</td>\n",
       "      <td>149.5</td>\n",
       "      <td>164.0</td>\n",
       "      <td>...</td>\n",
       "      <td>16:06:17</td>\n",
       "      <td>Sunday</td>\n",
       "      <td>16</td>\n",
       "      <td>4</td>\n",
       "      <td>2006</td>\n",
       "      <td>9.434820</td>\n",
       "      <td>7.880592</td>\n",
       "      <td>4.466667</td>\n",
       "      <td>0</td>\n",
       "      <td>NaN</td>\n",
       "    </tr>\n",
       "    <tr>\n",
       "      <th>1</th>\n",
       "      <td>9131428</td>\n",
       "      <td>125030</td>\n",
       "      <td>1885</td>\n",
       "      <td>93.783333</td>\n",
       "      <td>86.000000</td>\n",
       "      <td>2006-05-06 15:40:44</td>\n",
       "      <td>False</td>\n",
       "      <td>212.9</td>\n",
       "      <td>175.1</td>\n",
       "      <td>186.0</td>\n",
       "      <td>...</td>\n",
       "      <td>15:40:44</td>\n",
       "      <td>Saturday</td>\n",
       "      <td>15</td>\n",
       "      <td>5</td>\n",
       "      <td>2006</td>\n",
       "      <td>10.438457</td>\n",
       "      <td>7.282644</td>\n",
       "      <td>7.783333</td>\n",
       "      <td>0</td>\n",
       "      <td>NaN</td>\n",
       "    </tr>\n",
       "    <tr>\n",
       "      <th>2</th>\n",
       "      <td>1670259583</td>\n",
       "      <td>82155037</td>\n",
       "      <td>1885</td>\n",
       "      <td>91.566667</td>\n",
       "      <td>87.583333</td>\n",
       "      <td>2006-06-09 08:50:57</td>\n",
       "      <td>False</td>\n",
       "      <td>201.6</td>\n",
       "      <td>165.7</td>\n",
       "      <td>175.0</td>\n",
       "      <td>...</td>\n",
       "      <td>08:50:57</td>\n",
       "      <td>Friday</td>\n",
       "      <td>8</td>\n",
       "      <td>6</td>\n",
       "      <td>2006</td>\n",
       "      <td>10.513705</td>\n",
       "      <td>7.202538</td>\n",
       "      <td>3.983333</td>\n",
       "      <td>1</td>\n",
       "      <td>86.000000</td>\n",
       "    </tr>\n",
       "    <tr>\n",
       "      <th>3</th>\n",
       "      <td>24297526436</td>\n",
       "      <td>991534814</td>\n",
       "      <td>3719</td>\n",
       "      <td>88.666667</td>\n",
       "      <td>88.666667</td>\n",
       "      <td>2006-07-04 09:59:01</td>\n",
       "      <td>False</td>\n",
       "      <td>182.8</td>\n",
       "      <td>NaN</td>\n",
       "      <td>NaN</td>\n",
       "      <td>...</td>\n",
       "      <td>09:59:01</td>\n",
       "      <td>Tuesday</td>\n",
       "      <td>9</td>\n",
       "      <td>7</td>\n",
       "      <td>2006</td>\n",
       "      <td>9.610792</td>\n",
       "      <td>6.503543</td>\n",
       "      <td>0.000000</td>\n",
       "      <td>0</td>\n",
       "      <td>NaN</td>\n",
       "    </tr>\n",
       "    <tr>\n",
       "      <th>4</th>\n",
       "      <td>1670314655</td>\n",
       "      <td>82158071</td>\n",
       "      <td>1885</td>\n",
       "      <td>85.883333</td>\n",
       "      <td>83.883333</td>\n",
       "      <td>2006-07-29 08:30:41</td>\n",
       "      <td>False</td>\n",
       "      <td>226.6</td>\n",
       "      <td>172.7</td>\n",
       "      <td>180.0</td>\n",
       "      <td>...</td>\n",
       "      <td>08:30:41</td>\n",
       "      <td>Saturday</td>\n",
       "      <td>8</td>\n",
       "      <td>7</td>\n",
       "      <td>2006</td>\n",
       "      <td>10.500035</td>\n",
       "      <td>7.510456</td>\n",
       "      <td>2.000000</td>\n",
       "      <td>2</td>\n",
       "      <td>86.791667</td>\n",
       "    </tr>\n",
       "  </tbody>\n",
       "</table>\n",
       "<p>5 rows × 22 columns</p>\n",
       "</div>"
      ],
      "text/plain": [
       "            ID   Activity Athlete  Elapsed Time  Moving Time  \\\n",
       "0      9131432     111986    5287     76.300000    71.833333   \n",
       "1      9131428     125030    1885     93.783333    86.000000   \n",
       "2   1670259583   82155037    1885     91.566667    87.583333   \n",
       "3  24297526436  991534814    3719     88.666667    88.666667   \n",
       "4   1670314655   82158071    1885     85.883333    83.883333   \n",
       "\n",
       "           Start Date  Device Watts  Avg Watts  Avg Heart Rate  \\\n",
       "0 2006-04-23 16:06:17         False        NaN           149.5   \n",
       "1 2006-05-06 15:40:44         False      212.9           175.1   \n",
       "2 2006-06-09 08:50:57         False      201.6           165.7   \n",
       "3 2006-07-04 09:59:01         False      182.8             NaN   \n",
       "4 2006-07-29 08:30:41         False      226.6           172.7   \n",
       "\n",
       "   Max Heart Rate            ...                 Time       Day Hour Month  \\\n",
       "0           164.0            ...             16:06:17    Sunday   16     4   \n",
       "1           186.0            ...             15:40:44  Saturday   15     5   \n",
       "2           175.0            ...             08:50:57    Friday    8     6   \n",
       "3             NaN            ...             09:59:01   Tuesday    9     7   \n",
       "4           180.0            ...             08:30:41  Saturday    8     7   \n",
       "\n",
       "   Year  Distance (mi)       MPH  Time Stopped  Previous Efforts  \\\n",
       "0  2006       9.434820  7.880592      4.466667                 0   \n",
       "1  2006      10.438457  7.282644      7.783333                 0   \n",
       "2  2006      10.513705  7.202538      3.983333                 1   \n",
       "3  2006       9.610792  6.503543      0.000000                 0   \n",
       "4  2006      10.500035  7.510456      2.000000                 2   \n",
       "\n",
       "   Previous Avg Moving Time  \n",
       "0                       NaN  \n",
       "1                       NaN  \n",
       "2                 86.000000  \n",
       "3                       NaN  \n",
       "4                 86.791667  \n",
       "\n",
       "[5 rows x 22 columns]"
      ]
     },
     "execution_count": 25,
     "metadata": {},
     "output_type": "execute_result"
    }
   ],
   "source": [
    "strava_data.head()"
   ]
  },
  {
   "cell_type": "markdown",
   "metadata": {},
   "source": [
    "## Clean weather history data and merge with Strava data\n",
    "Load the weather history data I scraped from wunderground.com"
   ]
  },
  {
   "cell_type": "code",
   "execution_count": 26,
   "metadata": {
    "collapsed": true
   },
   "outputs": [],
   "source": [
    "weather = pd.read_csv(rawdata_fpath + 'wu_weather_history.csv')"
   ]
  },
  {
   "cell_type": "code",
   "execution_count": 27,
   "metadata": {},
   "outputs": [
    {
     "data": {
      "text/html": [
       "<div>\n",
       "<style>\n",
       "    .dataframe thead tr:only-child th {\n",
       "        text-align: right;\n",
       "    }\n",
       "\n",
       "    .dataframe thead th {\n",
       "        text-align: left;\n",
       "    }\n",
       "\n",
       "    .dataframe tbody tr th {\n",
       "        vertical-align: top;\n",
       "    }\n",
       "</style>\n",
       "<table border=\"1\" class=\"dataframe\">\n",
       "  <thead>\n",
       "    <tr style=\"text-align: right;\">\n",
       "      <th></th>\n",
       "      <th>timestamp</th>\n",
       "      <th>Mean Temperature</th>\n",
       "      <th>Max Temperature</th>\n",
       "      <th>Min Temperature</th>\n",
       "      <th>Precipitation</th>\n",
       "      <th>Wind Speed</th>\n",
       "      <th>Max Wind Speed</th>\n",
       "    </tr>\n",
       "  </thead>\n",
       "  <tbody>\n",
       "    <tr>\n",
       "      <th>0</th>\n",
       "      <td>20060101</td>\n",
       "      <td>52.0</td>\n",
       "      <td>62.0</td>\n",
       "      <td>43.0</td>\n",
       "      <td>0.02</td>\n",
       "      <td>6.0</td>\n",
       "      <td>20.0</td>\n",
       "    </tr>\n",
       "    <tr>\n",
       "      <th>1</th>\n",
       "      <td>20060102</td>\n",
       "      <td>52.0</td>\n",
       "      <td>54.0</td>\n",
       "      <td>48.0</td>\n",
       "      <td>0.41</td>\n",
       "      <td>5.0</td>\n",
       "      <td>14.0</td>\n",
       "    </tr>\n",
       "    <tr>\n",
       "      <th>2</th>\n",
       "      <td>20060103</td>\n",
       "      <td>50.0</td>\n",
       "      <td>55.0</td>\n",
       "      <td>46.0</td>\n",
       "      <td>0.00</td>\n",
       "      <td>6.0</td>\n",
       "      <td>16.0</td>\n",
       "    </tr>\n",
       "    <tr>\n",
       "      <th>3</th>\n",
       "      <td>20060104</td>\n",
       "      <td>55.0</td>\n",
       "      <td>60.0</td>\n",
       "      <td>50.0</td>\n",
       "      <td>0.00</td>\n",
       "      <td>6.0</td>\n",
       "      <td>12.0</td>\n",
       "    </tr>\n",
       "    <tr>\n",
       "      <th>4</th>\n",
       "      <td>20060105</td>\n",
       "      <td>52.0</td>\n",
       "      <td>59.0</td>\n",
       "      <td>46.0</td>\n",
       "      <td>0.00</td>\n",
       "      <td>6.0</td>\n",
       "      <td>12.0</td>\n",
       "    </tr>\n",
       "  </tbody>\n",
       "</table>\n",
       "</div>"
      ],
      "text/plain": [
       "   timestamp  Mean Temperature  Max Temperature  Min Temperature  \\\n",
       "0   20060101              52.0             62.0             43.0   \n",
       "1   20060102              52.0             54.0             48.0   \n",
       "2   20060103              50.0             55.0             46.0   \n",
       "3   20060104              55.0             60.0             50.0   \n",
       "4   20060105              52.0             59.0             46.0   \n",
       "\n",
       "   Precipitation  Wind Speed  Max Wind Speed  \n",
       "0           0.02         6.0            20.0  \n",
       "1           0.41         5.0            14.0  \n",
       "2           0.00         6.0            16.0  \n",
       "3           0.00         6.0            12.0  \n",
       "4           0.00         6.0            12.0  "
      ]
     },
     "execution_count": 27,
     "metadata": {},
     "output_type": "execute_result"
    }
   ],
   "source": [
    "weather.head()"
   ]
  },
  {
   "cell_type": "markdown",
   "metadata": {},
   "source": [
    "`timestamp` is in a weird format. Let's transform it to a format that pandas' datetime method will recognize, and then transform it to a datetime object under a new column."
   ]
  },
  {
   "cell_type": "code",
   "execution_count": 28,
   "metadata": {
    "collapsed": true
   },
   "outputs": [],
   "source": [
    "# convert timestamp to valid date representation\n",
    "weather['Date'] = weather['timestamp'].apply(\n",
    "    lambda x: '-'.join([str(x)[:4], str(x)[4:6], str(x)[6:]])\n",
    ")\n",
    "# remove timestamp column\n",
    "del weather['timestamp']\n",
    "\n",
    "# store under new 'date' column, and put it in datetime.date \n",
    "# format to match the date format in the Strava data set\n",
    "weather['Date'] = pd.to_datetime(weather['Date'], \n",
    "                                 format='%Y-%m-%d', errors='coerce')\n",
    "weather['Date'] = weather['Date'].apply(lambda x: x.date())"
   ]
  },
  {
   "cell_type": "code",
   "execution_count": 29,
   "metadata": {},
   "outputs": [
    {
     "data": {
      "text/html": [
       "<div>\n",
       "<style>\n",
       "    .dataframe thead tr:only-child th {\n",
       "        text-align: right;\n",
       "    }\n",
       "\n",
       "    .dataframe thead th {\n",
       "        text-align: left;\n",
       "    }\n",
       "\n",
       "    .dataframe tbody tr th {\n",
       "        vertical-align: top;\n",
       "    }\n",
       "</style>\n",
       "<table border=\"1\" class=\"dataframe\">\n",
       "  <thead>\n",
       "    <tr style=\"text-align: right;\">\n",
       "      <th></th>\n",
       "      <th>Mean Temperature</th>\n",
       "      <th>Max Temperature</th>\n",
       "      <th>Min Temperature</th>\n",
       "      <th>Precipitation</th>\n",
       "      <th>Wind Speed</th>\n",
       "      <th>Max Wind Speed</th>\n",
       "      <th>Date</th>\n",
       "    </tr>\n",
       "  </thead>\n",
       "  <tbody>\n",
       "    <tr>\n",
       "      <th>0</th>\n",
       "      <td>52.0</td>\n",
       "      <td>62.0</td>\n",
       "      <td>43.0</td>\n",
       "      <td>0.02</td>\n",
       "      <td>6.0</td>\n",
       "      <td>20.0</td>\n",
       "      <td>2006-01-01</td>\n",
       "    </tr>\n",
       "    <tr>\n",
       "      <th>1</th>\n",
       "      <td>52.0</td>\n",
       "      <td>54.0</td>\n",
       "      <td>48.0</td>\n",
       "      <td>0.41</td>\n",
       "      <td>5.0</td>\n",
       "      <td>14.0</td>\n",
       "      <td>2006-01-02</td>\n",
       "    </tr>\n",
       "    <tr>\n",
       "      <th>2</th>\n",
       "      <td>50.0</td>\n",
       "      <td>55.0</td>\n",
       "      <td>46.0</td>\n",
       "      <td>0.00</td>\n",
       "      <td>6.0</td>\n",
       "      <td>16.0</td>\n",
       "      <td>2006-01-03</td>\n",
       "    </tr>\n",
       "    <tr>\n",
       "      <th>3</th>\n",
       "      <td>55.0</td>\n",
       "      <td>60.0</td>\n",
       "      <td>50.0</td>\n",
       "      <td>0.00</td>\n",
       "      <td>6.0</td>\n",
       "      <td>12.0</td>\n",
       "      <td>2006-01-04</td>\n",
       "    </tr>\n",
       "    <tr>\n",
       "      <th>4</th>\n",
       "      <td>52.0</td>\n",
       "      <td>59.0</td>\n",
       "      <td>46.0</td>\n",
       "      <td>0.00</td>\n",
       "      <td>6.0</td>\n",
       "      <td>12.0</td>\n",
       "      <td>2006-01-05</td>\n",
       "    </tr>\n",
       "  </tbody>\n",
       "</table>\n",
       "</div>"
      ],
      "text/plain": [
       "   Mean Temperature  Max Temperature  Min Temperature  Precipitation  \\\n",
       "0              52.0             62.0             43.0           0.02   \n",
       "1              52.0             54.0             48.0           0.41   \n",
       "2              50.0             55.0             46.0           0.00   \n",
       "3              55.0             60.0             50.0           0.00   \n",
       "4              52.0             59.0             46.0           0.00   \n",
       "\n",
       "   Wind Speed  Max Wind Speed        Date  \n",
       "0         6.0            20.0  2006-01-01  \n",
       "1         5.0            14.0  2006-01-02  \n",
       "2         6.0            16.0  2006-01-03  \n",
       "3         6.0            12.0  2006-01-04  \n",
       "4         6.0            12.0  2006-01-05  "
      ]
     },
     "execution_count": 29,
     "metadata": {},
     "output_type": "execute_result"
    }
   ],
   "source": [
    "weather.head()"
   ]
  },
  {
   "cell_type": "markdown",
   "metadata": {},
   "source": [
    "Now, join the Strava and Weather Underground data sets, joining on 'date'"
   ]
  },
  {
   "cell_type": "code",
   "execution_count": 30,
   "metadata": {
    "collapsed": true
   },
   "outputs": [],
   "source": [
    "merged_data = pd.merge(strava_data, weather, on='Date')"
   ]
  },
  {
   "cell_type": "code",
   "execution_count": 31,
   "metadata": {
    "collapsed": true
   },
   "outputs": [],
   "source": [
    "# make sure there are no more rows than the number of values in the MPH column\n",
    "merged_data = merged_data.loc[(pd.notnull(merged_data['MPH'])), :]"
   ]
  },
  {
   "cell_type": "code",
   "execution_count": 32,
   "metadata": {
    "scrolled": true
   },
   "outputs": [
    {
     "data": {
      "text/html": [
       "<div>\n",
       "<style>\n",
       "    .dataframe thead tr:only-child th {\n",
       "        text-align: right;\n",
       "    }\n",
       "\n",
       "    .dataframe thead th {\n",
       "        text-align: left;\n",
       "    }\n",
       "\n",
       "    .dataframe tbody tr th {\n",
       "        vertical-align: top;\n",
       "    }\n",
       "</style>\n",
       "<table border=\"1\" class=\"dataframe\">\n",
       "  <thead>\n",
       "    <tr style=\"text-align: right;\">\n",
       "      <th></th>\n",
       "      <th>ID</th>\n",
       "      <th>Activity</th>\n",
       "      <th>Athlete</th>\n",
       "      <th>Elapsed Time</th>\n",
       "      <th>Moving Time</th>\n",
       "      <th>Start Date</th>\n",
       "      <th>Device Watts</th>\n",
       "      <th>Avg Watts</th>\n",
       "      <th>Avg Heart Rate</th>\n",
       "      <th>Max Heart Rate</th>\n",
       "      <th>...</th>\n",
       "      <th>MPH</th>\n",
       "      <th>Time Stopped</th>\n",
       "      <th>Previous Efforts</th>\n",
       "      <th>Previous Avg Moving Time</th>\n",
       "      <th>Mean Temperature</th>\n",
       "      <th>Max Temperature</th>\n",
       "      <th>Min Temperature</th>\n",
       "      <th>Precipitation</th>\n",
       "      <th>Wind Speed</th>\n",
       "      <th>Max Wind Speed</th>\n",
       "    </tr>\n",
       "  </thead>\n",
       "  <tbody>\n",
       "    <tr>\n",
       "      <th>0</th>\n",
       "      <td>9131432</td>\n",
       "      <td>111986</td>\n",
       "      <td>5287</td>\n",
       "      <td>76.300000</td>\n",
       "      <td>71.833333</td>\n",
       "      <td>2006-04-23 16:06:17</td>\n",
       "      <td>False</td>\n",
       "      <td>NaN</td>\n",
       "      <td>149.5</td>\n",
       "      <td>164.0</td>\n",
       "      <td>...</td>\n",
       "      <td>7.880592</td>\n",
       "      <td>4.466667</td>\n",
       "      <td>0</td>\n",
       "      <td>NaN</td>\n",
       "      <td>58.0</td>\n",
       "      <td>64.0</td>\n",
       "      <td>53.0</td>\n",
       "      <td>0.0</td>\n",
       "      <td>8.0</td>\n",
       "      <td>16.0</td>\n",
       "    </tr>\n",
       "    <tr>\n",
       "      <th>1</th>\n",
       "      <td>9131428</td>\n",
       "      <td>125030</td>\n",
       "      <td>1885</td>\n",
       "      <td>93.783333</td>\n",
       "      <td>86.000000</td>\n",
       "      <td>2006-05-06 15:40:44</td>\n",
       "      <td>False</td>\n",
       "      <td>212.9</td>\n",
       "      <td>175.1</td>\n",
       "      <td>186.0</td>\n",
       "      <td>...</td>\n",
       "      <td>7.282644</td>\n",
       "      <td>7.783333</td>\n",
       "      <td>0</td>\n",
       "      <td>NaN</td>\n",
       "      <td>58.0</td>\n",
       "      <td>68.0</td>\n",
       "      <td>51.0</td>\n",
       "      <td>0.0</td>\n",
       "      <td>15.0</td>\n",
       "      <td>17.0</td>\n",
       "    </tr>\n",
       "    <tr>\n",
       "      <th>2</th>\n",
       "      <td>1670259583</td>\n",
       "      <td>82155037</td>\n",
       "      <td>1885</td>\n",
       "      <td>91.566667</td>\n",
       "      <td>87.583333</td>\n",
       "      <td>2006-06-09 08:50:57</td>\n",
       "      <td>False</td>\n",
       "      <td>201.6</td>\n",
       "      <td>165.7</td>\n",
       "      <td>175.0</td>\n",
       "      <td>...</td>\n",
       "      <td>7.202538</td>\n",
       "      <td>3.983333</td>\n",
       "      <td>1</td>\n",
       "      <td>86.000000</td>\n",
       "      <td>68.0</td>\n",
       "      <td>82.0</td>\n",
       "      <td>55.0</td>\n",
       "      <td>0.0</td>\n",
       "      <td>14.0</td>\n",
       "      <td>18.0</td>\n",
       "    </tr>\n",
       "    <tr>\n",
       "      <th>3</th>\n",
       "      <td>24297526436</td>\n",
       "      <td>991534814</td>\n",
       "      <td>3719</td>\n",
       "      <td>88.666667</td>\n",
       "      <td>88.666667</td>\n",
       "      <td>2006-07-04 09:59:01</td>\n",
       "      <td>False</td>\n",
       "      <td>182.8</td>\n",
       "      <td>NaN</td>\n",
       "      <td>NaN</td>\n",
       "      <td>...</td>\n",
       "      <td>6.503543</td>\n",
       "      <td>0.000000</td>\n",
       "      <td>0</td>\n",
       "      <td>NaN</td>\n",
       "      <td>70.0</td>\n",
       "      <td>84.0</td>\n",
       "      <td>55.0</td>\n",
       "      <td>0.0</td>\n",
       "      <td>14.0</td>\n",
       "      <td>20.0</td>\n",
       "    </tr>\n",
       "    <tr>\n",
       "      <th>4</th>\n",
       "      <td>1670314655</td>\n",
       "      <td>82158071</td>\n",
       "      <td>1885</td>\n",
       "      <td>85.883333</td>\n",
       "      <td>83.883333</td>\n",
       "      <td>2006-07-29 08:30:41</td>\n",
       "      <td>False</td>\n",
       "      <td>226.6</td>\n",
       "      <td>172.7</td>\n",
       "      <td>180.0</td>\n",
       "      <td>...</td>\n",
       "      <td>7.510456</td>\n",
       "      <td>2.000000</td>\n",
       "      <td>2</td>\n",
       "      <td>86.791667</td>\n",
       "      <td>69.0</td>\n",
       "      <td>79.0</td>\n",
       "      <td>60.0</td>\n",
       "      <td>0.0</td>\n",
       "      <td>11.0</td>\n",
       "      <td>18.0</td>\n",
       "    </tr>\n",
       "  </tbody>\n",
       "</table>\n",
       "<p>5 rows × 28 columns</p>\n",
       "</div>"
      ],
      "text/plain": [
       "            ID   Activity Athlete  Elapsed Time  Moving Time  \\\n",
       "0      9131432     111986    5287     76.300000    71.833333   \n",
       "1      9131428     125030    1885     93.783333    86.000000   \n",
       "2   1670259583   82155037    1885     91.566667    87.583333   \n",
       "3  24297526436  991534814    3719     88.666667    88.666667   \n",
       "4   1670314655   82158071    1885     85.883333    83.883333   \n",
       "\n",
       "           Start Date  Device Watts  Avg Watts  Avg Heart Rate  \\\n",
       "0 2006-04-23 16:06:17         False        NaN           149.5   \n",
       "1 2006-05-06 15:40:44         False      212.9           175.1   \n",
       "2 2006-06-09 08:50:57         False      201.6           165.7   \n",
       "3 2006-07-04 09:59:01         False      182.8             NaN   \n",
       "4 2006-07-29 08:30:41         False      226.6           172.7   \n",
       "\n",
       "   Max Heart Rate       ...             MPH Time Stopped Previous Efforts  \\\n",
       "0           164.0       ...        7.880592     4.466667                0   \n",
       "1           186.0       ...        7.282644     7.783333                0   \n",
       "2           175.0       ...        7.202538     3.983333                1   \n",
       "3             NaN       ...        6.503543     0.000000                0   \n",
       "4           180.0       ...        7.510456     2.000000                2   \n",
       "\n",
       "  Previous Avg Moving Time  Mean Temperature  Max Temperature  \\\n",
       "0                      NaN              58.0             64.0   \n",
       "1                      NaN              58.0             68.0   \n",
       "2                86.000000              68.0             82.0   \n",
       "3                      NaN              70.0             84.0   \n",
       "4                86.791667              69.0             79.0   \n",
       "\n",
       "   Min Temperature  Precipitation  Wind Speed  Max Wind Speed  \n",
       "0             53.0            0.0         8.0            16.0  \n",
       "1             51.0            0.0        15.0            17.0  \n",
       "2             55.0            0.0        14.0            18.0  \n",
       "3             55.0            0.0        14.0            20.0  \n",
       "4             60.0            0.0        11.0            18.0  \n",
       "\n",
       "[5 rows x 28 columns]"
      ]
     },
     "execution_count": 32,
     "metadata": {},
     "output_type": "execute_result"
    }
   ],
   "source": [
    "merged_data.head()"
   ]
  },
  {
   "cell_type": "markdown",
   "metadata": {},
   "source": [
    "## Output cleaned data\n",
    "Data look good! Now let's write the joined, cleaned data to a CSV file."
   ]
  },
  {
   "cell_type": "code",
   "execution_count": 33,
   "metadata": {
    "collapsed": true
   },
   "outputs": [],
   "source": [
    "merged_data.to_csv(cleandata_fpath + 'strava_wu_data.csv', index=False)"
   ]
  },
  {
   "cell_type": "code",
   "execution_count": null,
   "metadata": {
    "collapsed": true
   },
   "outputs": [],
   "source": []
  }
 ],
 "metadata": {
  "kernelspec": {
   "display_name": "Python 3",
   "language": "python",
   "name": "python3"
  },
  "language_info": {
   "codemirror_mode": {
    "name": "ipython",
    "version": 3
   },
   "file_extension": ".py",
   "mimetype": "text/x-python",
   "name": "python",
   "nbconvert_exporter": "python",
   "pygments_lexer": "ipython3",
   "version": "3.6.1"
  }
 },
 "nbformat": 4,
 "nbformat_minor": 2
}
