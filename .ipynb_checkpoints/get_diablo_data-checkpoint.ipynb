{
 "cells": [
  {
   "cell_type": "markdown",
   "metadata": {},
   "source": [
    "# Get Data from Strava API\n",
    "I obtain data from Strava on all cycling efforts on the segment \"Diablo - North Gate to Summit,\" a popular Bay Area road cycling segment that scales the north side of Mount Diablo."
   ]
  },
  {
   "cell_type": "code",
   "execution_count": 60,
   "metadata": {
    "collapsed": true
   },
   "outputs": [],
   "source": [
    "# import requisit libraries\n",
    "import requests\n",
    "import time\n",
    "import pickle\n",
    "import sys\n",
    "import os\n",
    "import strava_api # my Strava API credentials"
   ]
  },
  {
   "cell_type": "markdown",
   "metadata": {},
   "source": [
    "### Collect Data\n",
    "I use Strava's API to obtain data on the Mt Diablo south gate-to-summit segment. See details about Strava's authentication protocol [here](https://strava.github.io/api/v3/oauth/). \n",
    "\n",
    "For security reasons, I keep my API access token hidden. Anyone wishing to reproduce this analysis should create a file within this working directory called `strava_api.py` and within that file populate a string variable `access_token` with their own access token."
   ]
  },
  {
   "cell_type": "markdown",
   "metadata": {},
   "source": [
    "#### Parameters"
   ]
  },
  {
   "cell_type": "code",
   "execution_count": 55,
   "metadata": {
    "collapsed": true
   },
   "outputs": [],
   "source": [
    "# populate some general parameters\n",
    "extra_headers = {'Authorization' : 'Bearer %s' % strava_api.access_token}\n",
    "api_base_url = 'https://www.strava.com/api/v3/'\n",
    "api_segment_url = api_base_url + 'segments/%d'\n",
    "api_segment_all_efforts_url = api_segment_url + '/all_efforts'\n",
    "\n",
    "per_page = 200 # Strava max\n",
    "\n",
    "segment_id = 656860 # \"Diablo - North Gate to Summit\"\n",
    "\n",
    "# for writing data to file\n",
    "segment_fname = 'segment_%d.p' % segment_id\n",
    "all_efforts_fname = 'all_efforts_%d.p' % segment_id"
   ]
  },
  {
   "cell_type": "markdown",
   "metadata": {},
   "source": [
    "#### Segment Data\n",
    "First, I'll get data on the segment itself."
   ]
  },
  {
   "cell_type": "code",
   "execution_count": 56,
   "metadata": {
    "collapsed": true
   },
   "outputs": [],
   "source": [
    "# get some data on the segment itself\n",
    "segment_r = requests.get(api_segment_url % segment_id, headers=extra_headers)\n",
    "n_efforts = segment_r.json()['effort_count']"
   ]
  },
  {
   "cell_type": "markdown",
   "metadata": {},
   "source": [
    "#### Segment Efforts\n",
    "Strava returns a max of 200 efforts per \"page,\" but there are over 23,000 efforts on this segment. Thus, I iterate through and combine the pages of efforts."
   ]
  },
  {
   "cell_type": "code",
   "execution_count": 41,
   "metadata": {},
   "outputs": [
    {
     "name": "stdout",
     "output_type": "stream",
     "text": [
      "Making summary request 1\n",
      "Making summary request 2\n",
      "Making summary request 3\n",
      "Making summary request 4\n",
      "Making summary request 5\n",
      "Making summary request 6\n",
      "Making summary request 7\n",
      "Making summary request 8\n",
      "Making summary request 9\n",
      "Making summary request 10\n",
      "Making summary request 11\n",
      "Making summary request 12\n",
      "Making summary request 13\n",
      "Making summary request 14\n",
      "Making summary request 15\n",
      "Making summary request 16\n",
      "Making summary request 17\n",
      "Making summary request 18\n",
      "Making summary request 19\n",
      "Making summary request 20\n",
      "Making summary request 21\n",
      "Making summary request 22\n",
      "Making summary request 23\n",
      "Making summary request 24\n",
      "Making summary request 25\n",
      "Making summary request 26\n",
      "Making summary request 27\n",
      "Making summary request 28\n",
      "Making summary request 29\n",
      "Making summary request 30\n",
      "Making summary request 31\n",
      "Making summary request 32\n",
      "Making summary request 33\n",
      "Making summary request 34\n",
      "Making summary request 35\n",
      "Making summary request 36\n",
      "Making summary request 37\n",
      "Making summary request 38\n",
      "Making summary request 39\n",
      "Making summary request 40\n",
      "Making summary request 41\n",
      "Making summary request 42\n",
      "Making summary request 43\n",
      "Making summary request 44\n",
      "Making summary request 45\n",
      "Making summary request 46\n",
      "Making summary request 47\n",
      "Making summary request 48\n",
      "Making summary request 49\n",
      "Making summary request 50\n",
      "Making summary request 51\n",
      "Making summary request 52\n",
      "Making summary request 53\n",
      "Making summary request 54\n",
      "Making summary request 55\n",
      "Making summary request 56\n",
      "Making summary request 57\n",
      "Making summary request 58\n",
      "Making summary request 59\n",
      "Making summary request 60\n",
      "Making summary request 61\n",
      "Making summary request 62\n",
      "Making summary request 63\n",
      "Making summary request 64\n",
      "Making summary request 65\n",
      "Making summary request 66\n",
      "Making summary request 67\n",
      "Making summary request 68\n",
      "Making summary request 69\n",
      "Making summary request 70\n",
      "Making summary request 71\n",
      "Making summary request 72\n",
      "Making summary request 73\n",
      "Making summary request 74\n",
      "Making summary request 75\n",
      "Making summary request 76\n",
      "Making summary request 77\n",
      "Making summary request 78\n",
      "Making summary request 79\n",
      "Making summary request 80\n",
      "Making summary request 81\n",
      "Making summary request 82\n",
      "Making summary request 83\n",
      "Making summary request 84\n",
      "Making summary request 85\n",
      "Making summary request 86\n",
      "Making summary request 87\n",
      "Making summary request 88\n",
      "Making summary request 89\n",
      "Making summary request 90\n",
      "Making summary request 91\n",
      "Making summary request 92\n",
      "Making summary request 93\n",
      "Making summary request 94\n",
      "Making summary request 95\n",
      "Making summary request 96\n",
      "Making summary request 97\n",
      "Making summary request 98\n",
      "Making summary request 99\n",
      "Making summary request 100\n",
      "Making summary request 101\n",
      "Making summary request 102\n",
      "Making summary request 103\n",
      "Making summary request 104\n",
      "Making summary request 105\n",
      "Making summary request 106\n",
      "Making summary request 107\n",
      "Making summary request 108\n",
      "Making summary request 109\n",
      "Making summary request 110\n",
      "Making summary request 111\n",
      "Making summary request 112\n",
      "Making summary request 113\n",
      "Making summary request 114\n",
      "Making summary request 115\n",
      "Making summary request 116\n",
      "Making summary request 117\n",
      "Making summary request 118\n",
      "Making summary request 119\n",
      "Making summary request 120\n",
      "170.99040007591248\n"
     ]
    }
   ],
   "source": [
    "start = time.time()\n",
    "all_efforts = []\n",
    "# do we want feedback on progress and elapsed time?\n",
    "verbose = 0 \n",
    "\n",
    "# if we already have the data pickled, load the file. otherwise, request effort data from Strava API \n",
    "if os.path.isfile(all_efforts_fname):\n",
    "    sys.stdout.write('Unpickling all efforts from %s\\n' % all_efforts_fname)\n",
    "    all_efforts = pickle.load(open(all_efforts_fname))\n",
    "else:\n",
    "    for i in range(1, round(2 + n_efforts / per_page)):\n",
    "        if verbose:\n",
    "            sys.stdout.write('Requesting page %d\\n' % i)\n",
    "        r = requests.get(api_segment_all_efforts_url % segment_id, headers=extra_headers, params={'per_page' : per_page, 'page' : i})\n",
    "\n",
    "        if r.status_code != 200:\n",
    "            sys.stderr.write('Error, received code %d for summary request %d\\n' % (r.status_code, i))\n",
    "        else:\n",
    "            all_efforts.extend(r.json())\n",
    "            #time.sleep(2) # Make sure do not hit Strava rate limiting\n",
    "        \n",
    "# how much time elapsed (sec) during the loop?\n",
    "end = time.time()\n",
    "sys.stdout.write('\\nTotal time elapsed (seconds): %f\\n' % (end-start))"
   ]
  },
  {
   "cell_type": "markdown",
   "metadata": {},
   "source": [
    "### Save Data\n",
    "Write data to pickle files."
   ]
  },
  {
   "cell_type": "code",
   "execution_count": 57,
   "metadata": {
    "collapsed": true
   },
   "outputs": [],
   "source": [
    "# save segment data\n",
    "pickle.dump(segment_r, open(segment_fname, 'wb'))\n",
    "\n",
    "# save effort data\n",
    "pickle.dump(all_efforts, open(all_efforts_fname, 'wb'))"
   ]
  }
 ],
 "metadata": {
  "kernelspec": {
   "display_name": "Python 3",
   "language": "python",
   "name": "python3"
  },
  "language_info": {
   "codemirror_mode": {
    "name": "ipython",
    "version": 3
   },
   "file_extension": ".py",
   "mimetype": "text/x-python",
   "name": "python",
   "nbconvert_exporter": "python",
   "pygments_lexer": "ipython3",
   "version": "3.6.1"
  }
 },
 "nbformat": 4,
 "nbformat_minor": 2
}
