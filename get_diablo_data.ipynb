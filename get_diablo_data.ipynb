{
 "cells": [
  {
   "cell_type": "markdown",
   "metadata": {},
   "source": [
    "# Get Data from Strava API\n",
    "I obtain data from Strava on all cycling efforts on the segment \"Diablo - North Gate to Summit,\" a popular Bay Area road cycling segment that ascends the north side of Mount Diablo."
   ]
  },
  {
   "cell_type": "code",
   "execution_count": 60,
   "metadata": {
    "collapsed": true
   },
   "outputs": [],
   "source": [
    "# import requisit libraries\n",
    "import requests\n",
    "import time\n",
    "import pickle\n",
    "import sys\n",
    "import os\n",
    "import strava_api # my Strava API credentials"
   ]
  },
  {
   "cell_type": "markdown",
   "metadata": {},
   "source": [
    "### Collect Data\n",
    "I use Strava's API to obtain data on the Mt Diablo south gate-to-summit segment. See details about Strava's authentication protocol [here](https://strava.github.io/api/v3/oauth/). \n",
    "\n",
    "For security reasons, I keep my API access token hidden. Anyone wishing to reproduce this analysis should create a file within this working directory called `strava_api.py` and within that file populate a string variable `access_token` with their own access token."
   ]
  },
  {
   "cell_type": "markdown",
   "metadata": {},
   "source": [
    "#### Parameters"
   ]
  },
  {
   "cell_type": "code",
   "execution_count": 55,
   "metadata": {
    "collapsed": true
   },
   "outputs": [],
   "source": [
    "# populate some general parameters\n",
    "extra_headers = {'Authorization' : 'Bearer %s' % strava_api.access_token}\n",
    "api_base_url = 'https://www.strava.com/api/v3/'\n",
    "api_segment_url = api_base_url + 'segments/%d'\n",
    "api_segment_all_efforts_url = api_segment_url + '/all_efforts'\n",
    "\n",
    "per_page = 200 # Strava max\n",
    "\n",
    "segment_id = 656860 # \"Diablo - North Gate to Summit\"\n",
    "\n",
    "# for writing data to file\n",
    "segment_fname = 'segment_%d.p' % segment_id\n",
    "all_efforts_fname = 'all_efforts_%d.p' % segment_id"
   ]
  },
  {
   "cell_type": "markdown",
   "metadata": {},
   "source": [
    "#### Segment Data\n",
    "First, I'll get data on the segment itself."
   ]
  },
  {
   "cell_type": "code",
   "execution_count": 56,
   "metadata": {
    "collapsed": true
   },
   "outputs": [],
   "source": [
    "# get some data on the segment itself\n",
    "segment_r = requests.get(api_segment_url % segment_id, headers=extra_headers)\n",
    "n_efforts = segment_r.json()['effort_count']"
   ]
  },
  {
   "cell_type": "markdown",
   "metadata": {},
   "source": [
    "#### Segment Efforts\n",
    "Strava returns a max of 200 efforts per \"page,\" but there are over 23,000 efforts on this segment. Thus, I iterate through and combine the pages of efforts."
   ]
  },
  {
   "cell_type": "code",
   "execution_count": 67,
   "metadata": {},
   "outputs": [
    {
     "name": "stdout",
     "output_type": "stream",
     "text": [
      "Unpickling all efforts from all_efforts_656860.p\n"
     ]
    }
   ],
   "source": [
    "start = time.time()\n",
    "all_efforts = []\n",
    "# do we want feedback on progress and elapsed time?\n",
    "verbose = 0 \n",
    "\n",
    "# if we already have the data pickled, load the file. otherwise, request effort data from Strava API \n",
    "if os.path.isfile(all_efforts_fname):\n",
    "    sys.stdout.write('Unpickling all efforts from %s\\n' % all_efforts_fname)\n",
    "    all_efforts = pickle.load(open(all_efforts_fname, 'rb'))\n",
    "else:\n",
    "    for i in range(1, round(2 + n_efforts / per_page)):\n",
    "        if verbose:\n",
    "            sys.stdout.write('Requesting page %d\\n' % i)\n",
    "        r = requests.get(api_segment_all_efforts_url % segment_id, headers=extra_headers, params={'per_page' : per_page, 'page' : i})\n",
    "\n",
    "        if r.status_code != 200:\n",
    "            sys.stderr.write('Error, received code %d for summary request %d\\n' % (r.status_code, i))\n",
    "        else:\n",
    "            all_efforts.extend(r.json())\n",
    "            #time.sleep(2) # Make sure do not hit Strava rate limiting\n",
    "        \n",
    "# how much time elapsed (sec) during the loop?\n",
    "end = time.time()\n",
    "elapsed = end-start\n",
    "if verbose:\n",
    "    sys.stdout.write('\\nTotal time elapsed (seconds): %f\\n' % elapsed)"
   ]
  },
  {
   "cell_type": "markdown",
   "metadata": {},
   "source": [
    "### Save Data\n",
    "Write data to pickle files."
   ]
  },
  {
   "cell_type": "code",
   "execution_count": 57,
   "metadata": {
    "collapsed": true
   },
   "outputs": [],
   "source": [
    "# save segment data\n",
    "pickle.dump(segment_r, open(segment_fname, 'wb'))\n",
    "\n",
    "# save effort data\n",
    "pickle.dump(all_efforts, open(all_efforts_fname, 'wb'))"
   ]
  }
 ],
 "metadata": {
  "kernelspec": {
   "display_name": "Python 3",
   "language": "python",
   "name": "python3"
  },
  "language_info": {
   "codemirror_mode": {
    "name": "ipython",
    "version": 3
   },
   "file_extension": ".py",
   "mimetype": "text/x-python",
   "name": "python",
   "nbconvert_exporter": "python",
   "pygments_lexer": "ipython3",
   "version": "3.6.1"
  }
 },
 "nbformat": 4,
 "nbformat_minor": 2
}
